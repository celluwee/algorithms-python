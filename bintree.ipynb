{
 "cells": [
  {
   "cell_type": "code",
   "execution_count": 3,
   "id": "123bd1dd",
   "metadata": {},
   "outputs": [
    {
     "name": "stdout",
     "output_type": "stream",
     "text": [
      "35 8 6 48 30 17 4 43 42\n",
      "4\n"
     ]
    }
   ],
   "source": [
    "class Node:\n",
    "    def __init__(self, key):\n",
    "        self.left = None\n",
    "        self.right = None\n",
    "        self.val = key\n",
    "\n",
    "def insert(root, key):\n",
    "    if root is None:\n",
    "        return Node(key)\n",
    "    else:\n",
    "        if root.val < key:\n",
    "            root.right = insert(root.right, key)\n",
    "        else:\n",
    "            root.left = insert(root.left, key)\n",
    "    return root\n",
    "\n",
    "def height(node):\n",
    "    if node is None:\n",
    "        return 0\n",
    "    else:\n",
    "        l_height = height(node.left)\n",
    "        r_height = height(node.right)\n",
    "\n",
    "        if l_height > r_height:\n",
    "            return l_height + 1\n",
    "        else:\n",
    "            return r_height + 1\n",
    "\n",
    "def build_tree(elements):\n",
    "    if len(elements) == 0:\n",
    "        return None\n",
    "    root = Node(elements[0])\n",
    "    for element in elements[1:]:\n",
    "        insert(root, element)\n",
    "    return root\n",
    "\n",
    "input_sequence = list(map(int, input().split()))\n",
    "root = build_tree(input_sequence)\n",
    "\n",
    "print(height(root))\n"
   ]
  },
  {
   "cell_type": "code",
   "execution_count": 6,
   "id": "f4c35ee4",
   "metadata": {},
   "outputs": [
    {
     "name": "stdout",
     "output_type": "stream",
     "text": [
      "5 15 18\n",
      "18\n"
     ]
    }
   ],
   "source": [
    "class Node:\n",
    "    def __init__(self, key):\n",
    "        self.left = None\n",
    "        self.right = None\n",
    "        self.val = key\n",
    "\n",
    "def insert(root, key):\n",
    "    if root is None:\n",
    "        return Node(key)\n",
    "    else:\n",
    "        if root.val < key:\n",
    "            root.right = insert(root.right, key)\n",
    "        else:\n",
    "            root.left = insert(root.left, key)\n",
    "    return root\n",
    "\n",
    "def find_leaves_in_order(node, leaves):\n",
    "    if node:\n",
    "        if node.left is None and node.right is None:\n",
    "            leaves.append(node.val)\n",
    "        find_leaves_in_order(node.left, leaves)\n",
    "        find_leaves_in_order(node.right, leaves)\n",
    "        \n",
    "def build_tree(elements):\n",
    "    if len(elements) == 0:\n",
    "        return None\n",
    "    root = Node(elements[0])\n",
    "    for element in elements[1:]:\n",
    "        insert(root, element)\n",
    "    return root\n",
    "\n",
    "numbers = list(map(int, input().split()))\n",
    "root = build_tree(numbers)\n",
    "\n",
    "leaves = []\n",
    "find_leaves_in_order(root, leaves)\n",
    "leaves.sort()\n",
    "\n",
    "print(' '.join(map(str, leaves)))\n"
   ]
  },
  {
   "cell_type": "code",
   "execution_count": 9,
   "id": "07e3e81e",
   "metadata": {},
   "outputs": [
    {
     "name": "stdout",
     "output_type": "stream",
     "text": [
      "3\n",
      "6 -1 1\n",
      "10 -1 2\n",
      "15 -1 -1\n",
      "YES\n"
     ]
    }
   ],
   "source": [
    "class TreeNode:\n",
    "    def __init__(self, value):\n",
    "        self.value = value\n",
    "        self.left = None\n",
    "        self.right = None\n",
    "\n",
    "def is_bin_sort_tree(root, left_child_val=float('-inf'), right_child_val=float('inf')):\n",
    "    if root is None:\n",
    "        return True\n",
    "    if root.value <= left_child_val or root.value >= right_child_val:\n",
    "        return False\n",
    "    return is_bin_sort_tree(root.left, left_child_val, root.value) and is_bin_sort_tree(root.right, root.value, right_child_val)\n",
    "\n",
    "n = int(input())\n",
    "nodes = [list(map(int, input().split())) for _ in range(n)]\n",
    "\n",
    "tree_nodes = {i: TreeNode(value) for i, (value, _, _) in enumerate(nodes)}\n",
    "for i, (_, left_child, right_child) in enumerate(nodes):\n",
    "    if left_child != -1:\n",
    "        tree_nodes[i].left = tree_nodes[left_child]\n",
    "    if right_child != -1:\n",
    "        tree_nodes[i].right = tree_nodes[right_child]\n",
    "\n",
    "root = tree_nodes[0]  \n",
    "result = \"YES\" if is_bin_sort_tree(root) else \"NO\"\n",
    "print(result)\n"
   ]
  }
 ],
 "metadata": {
  "kernelspec": {
   "display_name": "Python 3 (ipykernel)",
   "language": "python",
   "name": "python3"
  },
  "language_info": {
   "codemirror_mode": {
    "name": "ipython",
    "version": 3
   },
   "file_extension": ".py",
   "mimetype": "text/x-python",
   "name": "python",
   "nbconvert_exporter": "python",
   "pygments_lexer": "ipython3",
   "version": "3.9.12"
  }
 },
 "nbformat": 4,
 "nbformat_minor": 5
}
